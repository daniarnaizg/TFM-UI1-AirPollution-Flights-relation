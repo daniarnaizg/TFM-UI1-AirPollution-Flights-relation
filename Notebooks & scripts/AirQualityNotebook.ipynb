{
 "cells": [
  {
   "cell_type": "code",
   "execution_count": null,
   "metadata": {},
   "outputs": [],
   "source": [
    "sc.install_pypi_package('boto3')\n",
    "sc.install_pypi_package('pandas')\n",
    "sc.install_pypi_package('scipy')"
   ]
  },
  {
   "cell_type": "code",
   "execution_count": 3,
   "metadata": {},
   "outputs": [
    {
     "data": {
      "application/vnd.jupyter.widget-view+json": {
       "model_id": "7cf012f5f1d74dbfa8fd8f8016a4a47e",
       "version_major": 2,
       "version_minor": 0
      },
      "text/plain": [
       "VBox()"
      ]
     },
     "metadata": {},
     "output_type": "display_data"
    },
    {
     "data": {
      "application/vnd.jupyter.widget-view+json": {
       "model_id": "",
       "version_major": 2,
       "version_minor": 0
      },
      "text/plain": [
       "FloatProgress(value=0.0, bar_style='info', description='Progress:', layout=Layout(height='25px', width='50%'),…"
      ]
     },
     "metadata": {},
     "output_type": "display_data"
    }
   ],
   "source": [
    "import json\n",
    "import numpy as np\n",
    "import pandas as pd\n",
    "pd.set_option(\"display.max_columns\", 100)"
   ]
  },
  {
   "cell_type": "code",
   "execution_count": 4,
   "metadata": {},
   "outputs": [
    {
     "data": {
      "application/vnd.jupyter.widget-view+json": {
       "model_id": "3b52db2428f74faeaeaf3648f006e35e",
       "version_major": 2,
       "version_minor": 0
      },
      "text/plain": [
       "VBox()"
      ]
     },
     "metadata": {},
     "output_type": "display_data"
    },
    {
     "data": {
      "application/vnd.jupyter.widget-view+json": {
       "model_id": "",
       "version_major": 2,
       "version_minor": 0
      },
      "text/plain": [
       "FloatProgress(value=0.0, bar_style='info', description='Progress:', layout=Layout(height='25px', width='50%'),…"
      ]
     },
     "metadata": {},
     "output_type": "display_data"
    }
   ],
   "source": [
    "import boto3\n",
    "\n",
    "BUCKET_NAME = 'ui1-tfm-data'\n",
    "\n",
    "# Credencniales de autentificación de AWS\n",
    "s3 = boto3.client('s3', aws_access_key_id = \"xxx\",\n",
    "                        aws_secret_access_key = \"xxx\",\n",
    "                        aws_session_token=\"xxx\")\n",
    "\n",
    "# Descargamos los ficheros con los que vamos a trabajar desde el bucket previamente creado en S3\n",
    "s3.download_file(BUCKET_NAME, 'air-data/stations.json', '/tmp/stations.json')\n",
    "s3.download_file(BUCKET_NAME, 'air-data/spain_airQuality.csv', '/tmp/spain_airQuality.csv')"
   ]
  },
  {
   "cell_type": "markdown",
   "metadata": {},
   "source": [
    "---\n",
    "<br>\n",
    "\n",
    "# Estaciones"
   ]
  },
  {
   "cell_type": "code",
   "execution_count": 5,
   "metadata": {},
   "outputs": [
    {
     "data": {
      "application/vnd.jupyter.widget-view+json": {
       "model_id": "c5f6d8ca2d4049b4a82997713377ba05",
       "version_major": 2,
       "version_minor": 0
      },
      "text/plain": [
       "VBox()"
      ]
     },
     "metadata": {},
     "output_type": "display_data"
    },
    {
     "data": {
      "application/vnd.jupyter.widget-view+json": {
       "model_id": "",
       "version_major": 2,
       "version_minor": 0
      },
      "text/plain": [
       "FloatProgress(value=0.0, bar_style='info', description='Progress:', layout=Layout(height='25px', width='50%'),…"
      ]
     },
     "metadata": {},
     "output_type": "display_data"
    }
   ],
   "source": [
    "# Cargamos el archivo que contiene las estaciones\n",
    "data = json.load(open('/tmp/stations.json'))\n",
    "\n",
    "# Creamos el dataframe\n",
    "df_stations = pd.DataFrame(data[\"data\"])"
   ]
  },
  {
   "cell_type": "code",
   "execution_count": 6,
   "metadata": {},
   "outputs": [
    {
     "data": {
      "application/vnd.jupyter.widget-view+json": {
       "model_id": "f5c7277171984f1aaa47bec1450e26a9",
       "version_major": 2,
       "version_minor": 0
      },
      "text/plain": [
       "VBox()"
      ]
     },
     "metadata": {},
     "output_type": "display_data"
    },
    {
     "data": {
      "application/vnd.jupyter.widget-view+json": {
       "model_id": "",
       "version_major": 2,
       "version_minor": 0
      },
      "text/plain": [
       "FloatProgress(value=0.0, bar_style='info', description='Progress:', layout=Layout(height='25px', width='50%'),…"
      ]
     },
     "metadata": {},
     "output_type": "display_data"
    }
   ],
   "source": [
    "# Filtramos las estaciones en España\n",
    "df_stations_spain = df_stations.loc[df_stations['CountryOrTerritory'] == 'Spain']\n",
    "\n",
    "# Eliminamos las estaciones de fuera de la península (Islas Canarias)\n",
    "# lat > 35.512 AND lat < 44.512 AND lon > -10.415 AND lon < 5.054\n",
    "df_stations_spain = df_stations_spain[(df_stations_spain.SamplingPoint_Latitude > 35.512) & (df_stations_spain.SamplingPoint_Latitude < 44.512) & (df_stations_spain.SamplingPoint_Longitude > -10.415) & (df_stations_spain.SamplingPoint_Longitude < 5.054)]\n",
    "\n",
    "# Seleccionamos los campos relevantes\n",
    "df_stations_spain = df_stations_spain[['StationLocalId', 'SamplingPoint_Latitude', 'SamplingPoint_Longitude']]\n",
    "\n",
    "# Renombramos los campos\n",
    "df_stations_spain.columns = ['Station', 'Latitude', 'Longitude']\n",
    "\n",
    "# Reseteamos el índice del dataframe\n",
    "df_stations_spain = df_stations_spain.reset_index(drop=True)"
   ]
  },
  {
   "cell_type": "code",
   "execution_count": 7,
   "metadata": {},
   "outputs": [
    {
     "data": {
      "application/vnd.jupyter.widget-view+json": {
       "model_id": "cc5167feb3e74548a08f40f74ccdbbbf",
       "version_major": 2,
       "version_minor": 0
      },
      "text/plain": [
       "VBox()"
      ]
     },
     "metadata": {},
     "output_type": "display_data"
    },
    {
     "data": {
      "application/vnd.jupyter.widget-view+json": {
       "model_id": "",
       "version_major": 2,
       "version_minor": 0
      },
      "text/plain": [
       "FloatProgress(value=0.0, bar_style='info', description='Progress:', layout=Layout(height='25px', width='50%'),…"
      ]
     },
     "metadata": {},
     "output_type": "display_data"
    },
    {
     "name": "stdout",
     "output_type": "stream",
     "text": [
      "493\n",
      "       Station  Latitude  Longitude\n",
      "0  STA_ES0001R  39.54694   -4.35056\n",
      "1  STA_ES0005R  42.72056   -8.92361\n",
      "2  STA_ES0006R  39.87528    4.31639\n",
      "3  STA_ES0007R  37.23722   -3.53417\n",
      "4  STA_ES0008R  43.43917   -4.85000"
     ]
    }
   ],
   "source": [
    "print(len(df_stations_spain))\n",
    "df_stations_spain.head()"
   ]
  },
  {
   "cell_type": "markdown",
   "metadata": {},
   "source": [
    "---\n",
    "El dataset final con la información sobre las estaciones de medición en España contiene los siguientes campos:\n",
    "\n",
    "*   **Station**: Código identificativo de la estación\n",
    "*   **Latitude**: Coordenada de latitud de la estación\n",
    "*   **Longitude**: Coordenada de longitud de la estación\n",
    "\n",
    "---\n",
    "<br>\n",
    "\n",
    "# Mediciones"
   ]
  },
  {
   "cell_type": "code",
   "execution_count": 8,
   "metadata": {},
   "outputs": [
    {
     "data": {
      "application/vnd.jupyter.widget-view+json": {
       "model_id": "d7af13181c9443e3b88d2bd7a999bae7",
       "version_major": 2,
       "version_minor": 0
      },
      "text/plain": [
       "VBox()"
      ]
     },
     "metadata": {},
     "output_type": "display_data"
    },
    {
     "data": {
      "application/vnd.jupyter.widget-view+json": {
       "model_id": "",
       "version_major": 2,
       "version_minor": 0
      },
      "text/plain": [
       "FloatProgress(value=0.0, bar_style='info', description='Progress:', layout=Layout(height='25px', width='50%'),…"
      ]
     },
     "metadata": {},
     "output_type": "display_data"
    }
   ],
   "source": [
    "# Cargamos el archivo y creamos el dataframe con las observaciones de los contaminantes\n",
    "df = pd.read_csv('/tmp/spain_airQuality.csv')"
   ]
  },
  {
   "cell_type": "code",
   "execution_count": 9,
   "metadata": {},
   "outputs": [
    {
     "data": {
      "application/vnd.jupyter.widget-view+json": {
       "model_id": "6e1ba85ebf2448f3a9756919aa5d2ce4",
       "version_major": 2,
       "version_minor": 0
      },
      "text/plain": [
       "VBox()"
      ]
     },
     "metadata": {},
     "output_type": "display_data"
    },
    {
     "data": {
      "application/vnd.jupyter.widget-view+json": {
       "model_id": "",
       "version_major": 2,
       "version_minor": 0
      },
      "text/plain": [
       "FloatProgress(value=0.0, bar_style='info', description='Progress:', layout=Layout(height='25px', width='50%'),…"
      ]
     },
     "metadata": {},
     "output_type": "display_data"
    }
   ],
   "source": [
    "# Seleccionamos los campos relevantes\n",
    "df_measurements = df[['AirQualityStation', 'AirPollutant', 'Concentration', 'UnitOfMeasurement', 'DatetimeBegin']]\n",
    "\n",
    "# Renombramos los campos\n",
    "df_measurements.columns =['Station', 'AirPollutant', 'Concentration', 'UnitOfMeasurement', 'Datetime']\n",
    "\n",
    "# Eliminamos las entradas cuyas mediciones son nulas\n",
    "df_measurements = df_measurements[df_measurements['Concentration'].notna()]\n",
    "\n",
    "# Convertimos el campo de la fecha a formato Datetime\n",
    "df_measurements['Datetime'] = pd.to_datetime(df_measurements['Datetime'])\n",
    "\n",
    "# Seleccinamos las entradas que se corresponden al mes de enero\n",
    "df_measurements = df_measurements.loc[df_measurements['Datetime'] < '2020-2-1']\n",
    "\n",
    "# Reseteamos el índice del dataframe\n",
    "df_measurements = df_measurements.reset_index(drop=True)"
   ]
  },
  {
   "cell_type": "code",
   "execution_count": 10,
   "metadata": {},
   "outputs": [
    {
     "data": {
      "application/vnd.jupyter.widget-view+json": {
       "model_id": "974aec59873047d58fe48ef0049bf334",
       "version_major": 2,
       "version_minor": 0
      },
      "text/plain": [
       "VBox()"
      ]
     },
     "metadata": {},
     "output_type": "display_data"
    },
    {
     "data": {
      "application/vnd.jupyter.widget-view+json": {
       "model_id": "",
       "version_major": 2,
       "version_minor": 0
      },
      "text/plain": [
       "FloatProgress(value=0.0, bar_style='info', description='Progress:', layout=Layout(height='25px', width='50%'),…"
      ]
     },
     "metadata": {},
     "output_type": "display_data"
    }
   ],
   "source": [
    "# join con el dataframe de las estaciones para obtener su localizacion\n",
    "combined_df = df_measurements.merge(df_stations_spain, left_on='Station', right_on='Station')\n",
    "combined_df = combined_df[['AirPollutant', 'Concentration', 'UnitOfMeasurement', 'Station', 'Latitude', 'Longitude', 'Datetime']]"
   ]
  },
  {
   "cell_type": "code",
   "execution_count": 11,
   "metadata": {},
   "outputs": [
    {
     "data": {
      "application/vnd.jupyter.widget-view+json": {
       "model_id": "ae94fdf5c95d461cbfe437242cafe4be",
       "version_major": 2,
       "version_minor": 0
      },
      "text/plain": [
       "VBox()"
      ]
     },
     "metadata": {},
     "output_type": "display_data"
    },
    {
     "data": {
      "application/vnd.jupyter.widget-view+json": {
       "model_id": "",
       "version_major": 2,
       "version_minor": 0
      },
      "text/plain": [
       "FloatProgress(value=0.0, bar_style='info', description='Progress:', layout=Layout(height='25px', width='50%'),…"
      ]
     },
     "metadata": {},
     "output_type": "display_data"
    },
    {
     "name": "stdout",
     "output_type": "stream",
     "text": [
      "1646807\n",
      "  AirPollutant  Concentration UnitOfMeasurement      Station   Latitude  \\\n",
      "0           NO           36.0             µg/m3  STA_ES1633A  37.993611   \n",
      "1           NO           68.0             µg/m3  STA_ES1633A  37.993611   \n",
      "2           NO           58.0             µg/m3  STA_ES1633A  37.993611   \n",
      "3           NO           47.0             µg/m3  STA_ES1633A  37.993611   \n",
      "4           NO           42.0             µg/m3  STA_ES1633A  37.993611   \n",
      "\n",
      "   Longitude                  Datetime  \n",
      "0  -1.144722 2020-01-01 00:00:00+01:00  \n",
      "1  -1.144722 2020-01-01 01:00:00+01:00  \n",
      "2  -1.144722 2020-01-01 02:00:00+01:00  \n",
      "3  -1.144722 2020-01-01 03:00:00+01:00  \n",
      "4  -1.144722 2020-01-01 04:00:00+01:00"
     ]
    }
   ],
   "source": [
    "print(len(combined_df))\n",
    "combined_df.head()"
   ]
  },
  {
   "cell_type": "markdown",
   "metadata": {},
   "source": [
    "---\n",
    "Así, el dataset final en relación a las mediciones de calidad del aire queda con los siguientes campos:\n",
    "\n",
    "\n",
    "*   **AirPollutant**: Nombre identificactivo del contaminante medido.\n",
    "*   **Concentration**: Concentración medida para este tipo de contaminante.\n",
    "*   **UnitOfMeasurement**: Unidad de medida para este tipo de contaminante.\n",
    "*   **Station**: Código identificactivo de la estación de medición que ha recopilado la información.\n",
    "*   **Latitude**: Coordenada de latitud de la estación de medición.\n",
    "*   **Longitude**: Coordenada de longitud de la estación de medición.\n",
    "*   **Datetime**: Hora inicial de la medición.\n",
    "\n",
    "---\n",
    "<br>\n",
    "\n",
    "# Preparación del dataset final\n",
    "<br>\n",
    "\n",
    "## Funciones utilizadas"
   ]
  },
  {
   "cell_type": "code",
   "execution_count": 12,
   "metadata": {},
   "outputs": [
    {
     "data": {
      "application/vnd.jupyter.widget-view+json": {
       "model_id": "e023c788975142deb92f0af57d3ca2fd",
       "version_major": 2,
       "version_minor": 0
      },
      "text/plain": [
       "VBox()"
      ]
     },
     "metadata": {},
     "output_type": "display_data"
    },
    {
     "data": {
      "application/vnd.jupyter.widget-view+json": {
       "model_id": "",
       "version_major": 2,
       "version_minor": 0
      },
      "text/plain": [
       "FloatProgress(value=0.0, bar_style='info', description='Progress:', layout=Layout(height='25px', width='50%'),…"
      ]
     },
     "metadata": {},
     "output_type": "display_data"
    }
   ],
   "source": [
    "def get_grid(lon_steps, lat_steps, n):\n",
    "  '''\n",
    "  Función que genera un diccionario con la posición de las celdas resultantes de dividir el área en nxn celdas\n",
    "  '''\n",
    "  grid_dict = {}\n",
    "  \n",
    "  lat_stride = lat_steps[1] - lat_steps[0]\n",
    "  lon_stride = lon_steps[1] - lon_steps[0]\n",
    "\n",
    "  count = 0\n",
    "  for lat in lat_steps[:-1]:\n",
    "    for lon in lon_steps[:-1]:\n",
    "      count = count + 1\n",
    "      # Define dimensions of box in grid\n",
    "      upper_left = [lon, lat + lat_stride]\n",
    "      upper_right = [lon + lon_stride, lat + lat_stride]\n",
    "      lower_right = [lon + lon_stride, lat]\n",
    "      lower_left = [lon, lat]\n",
    "      grid_dict[count] = [upper_left[0], upper_left[1], lower_right[0], lower_right[1]]\n",
    "  return grid_dict\n",
    "\n",
    "N_DIVISIONS = 100 # Número de divisiones horizontales y verticales\n",
    "# lat > 35.512 AND lat < 44.512 AND lon > -10.415 AND lon < 5.054\n",
    "x_steps = np.linspace(-10.415, 5.054, N_DIVISIONS + 1) # Longitude\n",
    "y_steps = np.linspace(35.512, 44.512, N_DIVISIONS + 1) # Latitude\n",
    "grid_dict = get_grid(x_steps, y_steps, N_DIVISIONS) # Diccionario que contiene las coordenadas de cada celda\n"
   ]
  },
  {
   "cell_type": "code",
   "execution_count": 13,
   "metadata": {},
   "outputs": [
    {
     "data": {
      "application/vnd.jupyter.widget-view+json": {
       "model_id": "504dd8024724469dad3e667c2b6fca4c",
       "version_major": 2,
       "version_minor": 0
      },
      "text/plain": [
       "VBox()"
      ]
     },
     "metadata": {},
     "output_type": "display_data"
    },
    {
     "data": {
      "application/vnd.jupyter.widget-view+json": {
       "model_id": "",
       "version_major": 2,
       "version_minor": 0
      },
      "text/plain": [
       "FloatProgress(value=0.0, bar_style='info', description='Progress:', layout=Layout(height='25px', width='50%'),…"
      ]
     },
     "metadata": {},
     "output_type": "display_data"
    }
   ],
   "source": [
    "def remove_outliers(df):\n",
    "  '''\n",
    "  Identifica y elimina los outliers del campo 'Concentration'\n",
    "  '''\n",
    "  return df[((df.Concentration - df.Concentration.mean()) / df.Concentration.std()).abs() < 3]\n",
    "\n",
    "def group_by_day_station(df):\n",
    "  '''\n",
    "  Para cada día del mes, se obtiene la media de las mediciones en cada estación\n",
    "  '''\n",
    "  return df[['Datetime', 'Concentration', 'Station', 'Longitude', 'Latitude']].groupby([df['Datetime'].dt.day, 'Station']).mean().reset_index()\n",
    "\n",
    "from scipy.interpolate import griddata\n",
    "def interpolate(df, lon_steps, lat_steps, n):\n",
    "  '''\n",
    "  Crea una red con puntos cada 100Km y genera nuevos datos para estos puntos interpolando los datos ya conocidos\n",
    "  '''\n",
    "  x = df[\"Longitude\"].to_numpy()    \n",
    "  y = df[\"Latitude\"].to_numpy()\n",
    "  z = df[\"Concentration\"].to_numpy()\n",
    "\n",
    "  xi, yi = np.meshgrid(lon_steps, lat_steps)\n",
    "\n",
    "  # interpolate\n",
    "  zi = griddata((x,y),z,(xi,yi),method='linear')\n",
    "\n",
    "  # Utilizamos los nuevos valores para crear un nuevo dataframe\n",
    "  x_column =  []\n",
    "  for i in xi:\n",
    "    for j in i:\n",
    "      x_column.append(j)\n",
    "  \n",
    "  y_column =  []\n",
    "  for i in yi:\n",
    "    for j in i:\n",
    "      y_column.append(j)\n",
    "\n",
    "  z_column =  []\n",
    "  for i in zi:\n",
    "    for j in i:\n",
    "      z_column.append(j)\n",
    "\n",
    "  data = [x_column, y_column, z_column]\n",
    "  columns = ['x', 'y', 'z']\n",
    "  return pd.DataFrame(np.array(data).T, columns=columns)\n",
    "\n",
    "def interpolateAll(df, n):\n",
    "  '''\n",
    "  Tiene como resultado un dataframe en el que se guardan los datos generados cada día según el contaminante\n",
    "  '''\n",
    "  interpolated_pollutant_df = pd.DataFrame()\n",
    "\n",
    "  for n_day in range(1,31):\n",
    "    day_df = df.loc[df['Datetime'] == n_day]\n",
    "    interpolated_day_df = interpolate(day_df, x_steps, y_steps, n)\n",
    "    interpolated_day_df['Day'] = n_day\n",
    "    interpolated_pollutant_df = interpolated_pollutant_df.append(interpolated_day_df)\n",
    "\n",
    "  return interpolated_pollutant_df\n",
    "\n",
    "def locate_point(grid_x, grid_y, point_x, point_y):\n",
    "  '''\n",
    "  Localiza la celda a la que pertenece un punto y devuelve sus índices\n",
    "  '''  \n",
    "  x_step = grid_x[1]-grid_x[0]\n",
    "  y_step = grid_y[1]-grid_y[0]\n",
    "  cell_x = ((point_x - grid_x[0])//x_step) + 1\n",
    "  cell_y = ((point_y - grid_y[0])//y_step) + 1\n",
    "  return cell_x, cell_y\n",
    "\n",
    "def get_cell_num(cell_x, cell_y, n):\n",
    "  '''\n",
    "  Devuelve el número de una celda dados sus índices X e Y\n",
    "  '''\n",
    "  return (((cell_y - 1) * (n-1)) + cell_x)\n",
    "\n",
    "def addCellToAll(df, n):\n",
    "  '''\n",
    "  Función que itera sobre todas las entradas y añade la celda en la que se encuentra el vuelo en cada momento\n",
    "  '''\n",
    "  df['Cell'] = ''\n",
    "  for i, row in df.iterrows():\n",
    "    point_x = row[0] # Longitude\n",
    "    point_y = row[1] # Latitude\n",
    "    cell_x, cell_y = locate_point(x_steps, y_steps, point_x, point_y)\n",
    "    cell_num = get_cell_num(cell_x, cell_y, n+1)\n",
    "    df.at[i,'Cell'] = int(cell_num)\n",
    "  return df"
   ]
  },
  {
   "cell_type": "code",
   "execution_count": 14,
   "metadata": {},
   "outputs": [
    {
     "data": {
      "application/vnd.jupyter.widget-view+json": {
       "model_id": "69d52145c7924976af53590582895b3c",
       "version_major": 2,
       "version_minor": 0
      },
      "text/plain": [
       "VBox()"
      ]
     },
     "metadata": {},
     "output_type": "display_data"
    },
    {
     "data": {
      "application/vnd.jupyter.widget-view+json": {
       "model_id": "",
       "version_major": 2,
       "version_minor": 0
      },
      "text/plain": [
       "FloatProgress(value=0.0, bar_style='info', description='Progress:', layout=Layout(height='25px', width='50%'),…"
      ]
     },
     "metadata": {},
     "output_type": "display_data"
    },
    {
     "name": "stdout",
     "output_type": "stream",
     "text": [
      "1646807\n",
      "        AirPollutant  Concentration UnitOfMeasurement      Station   Latitude  \\\n",
      "18223             O3           52.0             µg/m3  STA_ES1690A  40.269444   \n",
      "1274480   NOX as NO2           34.0             µg/m3  STA_ES1747A  42.826940   \n",
      "436269            O3           26.0             µg/m3  STA_ES1225A  41.615795   \n",
      "1605375          SO2            4.0             µg/m3  STA_ES0629A  36.185620   \n",
      "29541             NO            4.3             µg/m3  STA_ES1096A  42.351944   \n",
      "\n",
      "         Longitude                  Datetime  \n",
      "18223    -0.078889 2020-01-22 10:00:00+01:00  \n",
      "1274480  -1.649440 2020-01-12 18:00:00+01:00  \n",
      "436269    0.615726 2020-01-07 02:00:00+01:00  \n",
      "1605375  -5.488930 2020-01-05 01:00:00+01:00  \n",
      "29541    -7.876944 2020-01-18 09:00:00+01:00"
     ]
    }
   ],
   "source": [
    "print(len(combined_df))\n",
    "combined_df.sample(5)"
   ]
  },
  {
   "cell_type": "code",
   "execution_count": 15,
   "metadata": {},
   "outputs": [
    {
     "data": {
      "application/vnd.jupyter.widget-view+json": {
       "model_id": "000279776f06470a9e0a77eddf369a84",
       "version_major": 2,
       "version_minor": 0
      },
      "text/plain": [
       "VBox()"
      ]
     },
     "metadata": {},
     "output_type": "display_data"
    },
    {
     "data": {
      "application/vnd.jupyter.widget-view+json": {
       "model_id": "",
       "version_major": 2,
       "version_minor": 0
      },
      "text/plain": [
       "FloatProgress(value=0.0, bar_style='info', description='Progress:', layout=Layout(height='25px', width='50%'),…"
      ]
     },
     "metadata": {},
     "output_type": "display_data"
    }
   ],
   "source": [
    "# Separamos por tipo de contaminante\n",
    "df_NO = combined_df.loc[combined_df['AirPollutant'] == 'NO']\n",
    "df_SO2 = combined_df.loc[combined_df['AirPollutant'] == 'SO2']\n",
    "df_NO2 = combined_df.loc[combined_df['AirPollutant'] == 'NO2']\n",
    "df_NOX = combined_df.loc[combined_df['AirPollutant'] == 'NOX as NO2']\n",
    "df_CO = combined_df.loc[combined_df['AirPollutant'] == 'CO']\n",
    "df_O3 = combined_df.loc[combined_df['AirPollutant'] == 'O3']\n",
    "df_PM25 = combined_df.loc[combined_df['AirPollutant'] == 'PM2.5']\n",
    "df_PM10 = combined_df.loc[combined_df['AirPollutant'] == 'PM10']\n",
    "df_C6H6 = combined_df.loc[combined_df['AirPollutant'] == 'C6H6']\n",
    "\n",
    "# Identificamos y eliminamos outliers de cada nuevo dataframe\n",
    "df_NO = remove_outliers(df_NO)\n",
    "df_SO2 = remove_outliers(df_SO2)\n",
    "df_NO2 = remove_outliers(df_NO2)\n",
    "df_NOX = remove_outliers(df_NOX)\n",
    "df_CO = remove_outliers(df_CO)\n",
    "df_O3 = remove_outliers(df_O3)\n",
    "df_PM25 = remove_outliers(df_PM25)\n",
    "df_PM10 = remove_outliers(df_PM10)\n",
    "df_C6H6 = remove_outliers(df_C6H6)\n",
    "\n",
    "# Agrupamos cada contaminante por día y estación y hacemos la media\n",
    "df_NO_by_day = group_by_day_station(df_NO)\n",
    "df_SO2_by_day = group_by_day_station(df_SO2)\n",
    "df_NO2_by_day = group_by_day_station(df_NO2)\n",
    "df_NOX_by_day = group_by_day_station(df_NOX)\n",
    "df_CO_by_day = group_by_day_station(df_CO)\n",
    "df_O3_by_day = group_by_day_station(df_O3)\n",
    "df_PM25_by_day = group_by_day_station(df_PM25)\n",
    "df_PM10_by_day = group_by_day_station(df_PM10)\n",
    "df_C6H6_by_day = group_by_day_station(df_C6H6)\n",
    "\n",
    "# Utilizamos los datos actuales para obtener un valor interpolado de los anteriores para cada 100Km\n",
    "interpollated_df_NO = interpolateAll(df_NO_by_day, N_DIVISIONS)\n",
    "interpollated_df_SO2 = interpolateAll(df_SO2_by_day, N_DIVISIONS)\n",
    "interpollated_df_NO2 = interpolateAll(df_NO2_by_day, N_DIVISIONS)\n",
    "interpollated_df_NOX = interpolateAll(df_NOX_by_day, N_DIVISIONS)\n",
    "interpollated_df_CO = interpolateAll(df_CO_by_day, N_DIVISIONS)\n",
    "interpollated_df_O3 = interpolateAll(df_O3_by_day, N_DIVISIONS)\n",
    "interpollated_df_PM25 = interpolateAll(df_PM25_by_day, N_DIVISIONS)\n",
    "interpollated_df_PM10 = interpolateAll(df_PM10_by_day, N_DIVISIONS)\n",
    "interpollated_df_C6H6 = interpolateAll(df_C6H6_by_day, N_DIVISIONS)\n",
    "\n",
    "# Renombramos la columna 'Concentration' en función del contaminante antes de unificar todos los dataframes un uno solo\n",
    "interpollated_df_NO.columns = ['Longitude', 'Latitude', 'NO', 'Day']\n",
    "interpollated_df_SO2.columns = ['Longitude', 'Latitude', 'SO2', 'Day']\n",
    "interpollated_df_NO2.columns = ['Longitude', 'Latitude', 'NO2', 'Day']\n",
    "interpollated_df_NOX.columns = ['Longitude', 'Latitude', 'NOX', 'Day']\n",
    "interpollated_df_CO.columns = ['Longitude', 'Latitude', 'CO', 'Day']\n",
    "interpollated_df_O3.columns = ['Longitude', 'Latitude', 'O3', 'Day']\n",
    "interpollated_df_PM25.columns = ['Longitude', 'Latitude', 'PM2.5', 'Day']\n",
    "interpollated_df_PM10.columns = ['Longitude', 'Latitude', 'PM10', 'Day']\n",
    "interpollated_df_C6H6.columns = ['Longitude', 'Latitude', 'C6H6', 'Day']\n",
    "\n",
    "# Por último, hacemos un join de todos los contaminantes para tenerlos en un único dataframe\n",
    "from functools import reduce\n",
    "final_df = reduce(lambda x,y: pd.merge(x,y, on=['Longitude' , 'Latitude', 'Day'], how='outer'), [interpollated_df_NO, interpollated_df_SO2, interpollated_df_NO2, interpollated_df_NOX, interpollated_df_CO, interpollated_df_O3, interpollated_df_PM25, interpollated_df_PM10, interpollated_df_C6H6])\n",
    "\n",
    "# Eliminamos las entradas cuyas mediciones son nulas para todos los contaminantes\n",
    "final_df = final_df.dropna(thresh=9)\n",
    "\n",
    "# Rellenamos los valores nulos que que quedan con la media de las filas anteriores y las siguientes\n",
    "final_df = final_df.where(final_df.notnull(), other=(final_df.fillna(method='ffill')+final_df.fillna(method='bfill'))/2)\n",
    "\n",
    "# Lo nulos que no se han podido calcular, se rellenan con la media de toda la columna\n",
    "for i in final_df.columns[final_df.isnull().any(axis=0)]:\n",
    "    final_df[i].fillna(final_df[i].mean(), inplace=True)\n",
    "\n",
    "# Reseteamos el índice del dataframe\n",
    "final_df = final_df.reset_index(drop=True)\n",
    "\n",
    "# Asignamos una celda a cada entrada del dataframe\n",
    "final_df = addCellToAll(final_df, N_DIVISIONS)\n",
    "\n",
    "# Ordenamos las columnas para mejor legibilidad\n",
    "final_df = final_df[['Day', 'Cell', 'NO', 'SO2', 'NO2', 'NOX', 'CO', 'O3', 'PM2.5', 'PM10', 'C6H6']]"
   ]
  },
  {
   "cell_type": "code",
   "execution_count": 16,
   "metadata": {},
   "outputs": [
    {
     "data": {
      "application/vnd.jupyter.widget-view+json": {
       "model_id": "c3e06309f95f4ef089d6764519946f1f",
       "version_major": 2,
       "version_minor": 0
      },
      "text/plain": [
       "VBox()"
      ]
     },
     "metadata": {},
     "output_type": "display_data"
    },
    {
     "data": {
      "application/vnd.jupyter.widget-view+json": {
       "model_id": "",
       "version_major": 2,
       "version_minor": 0
      },
      "text/plain": [
       "FloatProgress(value=0.0, bar_style='info', description='Progress:', layout=Layout(height='25px', width='50%'),…"
      ]
     },
     "metadata": {},
     "output_type": "display_data"
    },
    {
     "name": "stdout",
     "output_type": "stream",
     "text": [
      "Day      0\n",
      "Cell     0\n",
      "NO       0\n",
      "SO2      0\n",
      "NO2      0\n",
      "NOX      0\n",
      "CO       0\n",
      "O3       0\n",
      "PM2.5    0\n",
      "PM10     0\n",
      "C6H6     0\n",
      "dtype: int64"
     ]
    }
   ],
   "source": [
    "# Comprobamos si existen entradas nulas\n",
    "final_df.isnull().sum(axis = 0)"
   ]
  },
  {
   "cell_type": "code",
   "execution_count": 17,
   "metadata": {},
   "outputs": [
    {
     "data": {
      "application/vnd.jupyter.widget-view+json": {
       "model_id": "f3f9ddcf8e3543e0abe67aa0f7be21f8",
       "version_major": 2,
       "version_minor": 0
      },
      "text/plain": [
       "VBox()"
      ]
     },
     "metadata": {},
     "output_type": "display_data"
    },
    {
     "data": {
      "application/vnd.jupyter.widget-view+json": {
       "model_id": "",
       "version_major": 2,
       "version_minor": 0
      },
      "text/plain": [
       "FloatProgress(value=0.0, bar_style='info', description='Progress:', layout=Layout(height='25px', width='50%'),…"
      ]
     },
     "metadata": {},
     "output_type": "display_data"
    },
    {
     "name": "stdout",
     "output_type": "stream",
     "text": [
      "135030\n",
      "        Day  Cell         NO        SO2        NO2        NOX        CO  \\\n",
      "111561   25  7473   1.951532   1.201194   6.575093   8.939241  0.256835   \n",
      "79942    18  7147   1.172529   4.189702   4.758433   5.525672  0.365007   \n",
      "107452   24  8059   6.010746   1.897103  15.715557  24.951700  0.310899   \n",
      "3450      1  6847   3.430196   1.931914   5.543974   8.867394  0.428484   \n",
      "107960   25  1540   4.650546   9.794944  19.389237  25.682614  0.179127   \n",
      "40444     9  8636   1.530117   2.895572   3.450328   4.986908  0.388407   \n",
      "29213     7  5268   7.649132   3.962374  24.456884  36.009823  0.217872   \n",
      "111849   25  7939   2.805563   2.285203   9.951065  15.693888  0.461068   \n",
      "31097     7  7927  23.630916  12.948562  23.589224  56.799907  0.684477   \n",
      "72789    17  3221   9.441261   2.433520  17.617761  31.380320  0.489707   \n",
      "2359      1  5377   1.592851   1.427729  10.932229  11.180079  0.303671   \n",
      "127164   29  4141   2.397997   1.903789   7.445855  13.511234  0.378385   \n",
      "104062   24  2961  26.089383   2.239432  39.024332  77.404925  0.279702   \n",
      "71700    16  8257   7.965073   3.856879  22.586607  34.803230  0.477820   \n",
      "35350     8  7547  27.623836   3.396960  22.465265  64.323674  0.514570   \n",
      "\n",
      "               O3      PM2.5       PM10      C6H6  \n",
      "111561  59.981637  17.601210  46.213530  1.054274  \n",
      "79942   47.873819   5.293155   7.472635  0.566123  \n",
      "107452  42.025056  18.214018  36.919677  0.993716  \n",
      "3450    25.747894   8.642023  15.884991  0.478885  \n",
      "107960  74.271953  13.944556  15.682493  0.148052  \n",
      "40444   67.592001   9.381922  16.930436  1.617026  \n",
      "29213   24.711986   6.942086  11.567572  1.596615  \n",
      "111849  40.094750   8.543317  15.093208  0.665803  \n",
      "31097   14.253028  16.935115  40.225760  1.517541  \n",
      "72789   42.657103   7.962322  26.961608  1.220331  \n",
      "2359    23.377656   7.354502  21.142255  1.037677  \n",
      "127164  51.851393  11.335236  10.997668  1.194327  \n",
      "104062  32.598598  14.252058  55.278158  1.081663  \n",
      "71700   49.098565   4.565786  13.236255  0.854623  \n",
      "35350   17.080010   7.508350  12.440964  1.981340"
     ]
    }
   ],
   "source": [
    "print(len(final_df))\n",
    "final_df.sample(15)"
   ]
  },
  {
   "cell_type": "markdown",
   "metadata": {},
   "source": [
    "---\n",
    "El dataset final contiene los siguientes campos:\n",
    "\n",
    "*   **Day**: Día (número) al que se corresponde la medición\n",
    "*   **Cell**:Celda a la que se corresponde la medición\n",
    "*   **NO**: Media de las mediciones de Óxido de nitrógeno para ese día en ese punto\n",
    "*   **SO2**: Media de las mediciones de Dióxido de azufre para ese día en ese punto\n",
    "*   **NO2**: Media de las mediciones de Dióxido de nitrógeno para ese día en ese punto\n",
    "*   **NOX**: Media de las mediciones de otros compuestos de oxígeno y nitrógeno para ese día en ese punto\n",
    "*   **CO**: Media de las mediciones de Monóxido de carbono para ese día en ese punto\n",
    "*   **O3**: Media de las mediciones de Ozono para ese día en ese punto\n",
    "*   **PM2.5**: Media de las mediciones de materia particulada 2.5 para ese día en ese punto\n",
    "*   **PM10**: Media de las mediciones de materia particulada 10 para ese día en ese punto\n",
    "*   **C6H6**: Media de las mediciones de Benceno para ese día en ese punto\n",
    "\n",
    "---\n",
    "<br>"
   ]
  },
  {
   "cell_type": "code",
   "execution_count": 18,
   "metadata": {},
   "outputs": [
    {
     "data": {
      "application/vnd.jupyter.widget-view+json": {
       "model_id": "6931e00810114ac0aae1c700635d093b",
       "version_major": 2,
       "version_minor": 0
      },
      "text/plain": [
       "VBox()"
      ]
     },
     "metadata": {},
     "output_type": "display_data"
    },
    {
     "data": {
      "application/vnd.jupyter.widget-view+json": {
       "model_id": "",
       "version_major": 2,
       "version_minor": 0
      },
      "text/plain": [
       "FloatProgress(value=0.0, bar_style='info', description='Progress:', layout=Layout(height='25px', width='50%'),…"
      ]
     },
     "metadata": {},
     "output_type": "display_data"
    }
   ],
   "source": [
    "# Guardamos el dataframe final como un archivo json y lo almacenamos en S3\n",
    "final_df.to_json(r'/tmp/final_airQuality_dataset.json')\n",
    "s3.upload_file('/tmp/final_airQuality_dataset.json', BUCKET_NAME, 'air-data/final_airQuality_dataset.json')"
   ]
  }
 ],
 "metadata": {
  "kernelspec": {
   "display_name": "PySpark",
   "language": "",
   "name": "pysparkkernel"
  },
  "language_info": {
   "codemirror_mode": {
    "name": "python",
    "version": 2
   },
   "mimetype": "text/x-python",
   "name": "pyspark",
   "pygments_lexer": "python2"
  }
 },
 "nbformat": 4,
 "nbformat_minor": 4
}
